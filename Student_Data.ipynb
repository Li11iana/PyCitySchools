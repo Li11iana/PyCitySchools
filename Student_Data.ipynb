{
 "cells": [
  {
   "cell_type": "markdown",
   "id": "f066d54a",
   "metadata": {},
   "source": [
    "Import dependencies"
   ]
  },
  {
   "cell_type": "code",
   "execution_count": 2,
   "id": "eebc22ae",
   "metadata": {},
   "outputs": [],
   "source": [
    "import pandas as pd\n",
    "import os"
   ]
  },
  {
   "cell_type": "markdown",
   "id": "3feb14b2",
   "metadata": {},
   "source": [
    "Deliverable 1: Collect the Data"
   ]
  },
  {
   "cell_type": "code",
   "execution_count": 3,
   "id": "886b2e6d",
   "metadata": {},
   "outputs": [
    {
     "data": {
      "text/html": [
       "<div>\n",
       "<style scoped>\n",
       "    .dataframe tbody tr th:only-of-type {\n",
       "        vertical-align: middle;\n",
       "    }\n",
       "\n",
       "    .dataframe tbody tr th {\n",
       "        vertical-align: top;\n",
       "    }\n",
       "\n",
       "    .dataframe thead th {\n",
       "        text-align: right;\n",
       "    }\n",
       "</style>\n",
       "<table border=\"1\" class=\"dataframe\">\n",
       "  <thead>\n",
       "    <tr style=\"text-align: right;\">\n",
       "      <th></th>\n",
       "      <th>student_id</th>\n",
       "      <th>student_name</th>\n",
       "      <th>grade</th>\n",
       "      <th>school_name</th>\n",
       "      <th>reading_score</th>\n",
       "      <th>math_score</th>\n",
       "      <th>school_type</th>\n",
       "      <th>school_budget</th>\n",
       "    </tr>\n",
       "  </thead>\n",
       "  <tbody>\n",
       "    <tr>\n",
       "      <th>0</th>\n",
       "      <td>103880842</td>\n",
       "      <td>Travis Martin</td>\n",
       "      <td>9th</td>\n",
       "      <td>Sullivan High School</td>\n",
       "      <td>59.0</td>\n",
       "      <td>88.2</td>\n",
       "      <td>Public</td>\n",
       "      <td>961125</td>\n",
       "    </tr>\n",
       "    <tr>\n",
       "      <th>1</th>\n",
       "      <td>45069750</td>\n",
       "      <td>Michael Brown</td>\n",
       "      <td>9th</td>\n",
       "      <td>Dixon High School</td>\n",
       "      <td>94.7</td>\n",
       "      <td>73.5</td>\n",
       "      <td>Charter</td>\n",
       "      <td>870334</td>\n",
       "    </tr>\n",
       "    <tr>\n",
       "      <th>2</th>\n",
       "      <td>45024902</td>\n",
       "      <td>Gabriela Lucero</td>\n",
       "      <td>9th</td>\n",
       "      <td>Wagner High School</td>\n",
       "      <td>89.0</td>\n",
       "      <td>70.4</td>\n",
       "      <td>Public</td>\n",
       "      <td>846745</td>\n",
       "    </tr>\n",
       "    <tr>\n",
       "      <th>3</th>\n",
       "      <td>62582498</td>\n",
       "      <td>Susan Richardson</td>\n",
       "      <td>9th</td>\n",
       "      <td>Silva High School</td>\n",
       "      <td>69.7</td>\n",
       "      <td>80.3</td>\n",
       "      <td>Public</td>\n",
       "      <td>991918</td>\n",
       "    </tr>\n",
       "    <tr>\n",
       "      <th>4</th>\n",
       "      <td>16437227</td>\n",
       "      <td>Sherry Davis</td>\n",
       "      <td>11th</td>\n",
       "      <td>Bowers High School</td>\n",
       "      <td>NaN</td>\n",
       "      <td>27.5</td>\n",
       "      <td>Public</td>\n",
       "      <td>848324</td>\n",
       "    </tr>\n",
       "  </tbody>\n",
       "</table>\n",
       "</div>"
      ],
      "text/plain": [
       "   student_id      student_name grade           school_name  reading_score  \\\n",
       "0   103880842     Travis Martin   9th  Sullivan High School           59.0   \n",
       "1    45069750     Michael Brown   9th     Dixon High School           94.7   \n",
       "2    45024902   Gabriela Lucero   9th    Wagner High School           89.0   \n",
       "3    62582498  Susan Richardson   9th     Silva High School           69.7   \n",
       "4    16437227      Sherry Davis  11th    Bowers High School            NaN   \n",
       "\n",
       "   math_score school_type  school_budget  \n",
       "0        88.2      Public         961125  \n",
       "1        73.5     Charter         870334  \n",
       "2        70.4      Public         846745  \n",
       "3        80.3      Public         991918  \n",
       "4        27.5      Public         848324  "
      ]
     },
     "execution_count": 3,
     "metadata": {},
     "output_type": "execute_result"
    }
   ],
   "source": [
    "full_student_data = os.path.join('../Resources/new_full_student_data.csv')\n",
    "student_df = pd.read_csv(full_student_data)\n",
    "student_df.head()"
   ]
  },
  {
   "cell_type": "markdown",
   "id": "9d91dc55",
   "metadata": {},
   "source": [
    "Deliverable 2: Prepare the Data"
   ]
  },
  {
   "cell_type": "code",
   "execution_count": 4,
   "id": "ce72fc03",
   "metadata": {},
   "outputs": [
    {
     "data": {
      "text/plain": [
       "student_id       19514\n",
       "student_name     19514\n",
       "grade            19514\n",
       "school_name      19514\n",
       "reading_score    17546\n",
       "math_score       18532\n",
       "school_type      19514\n",
       "school_budget    19514\n",
       "dtype: int64"
      ]
     },
     "execution_count": 4,
     "metadata": {},
     "output_type": "execute_result"
    }
   ],
   "source": [
    "student_df.count()\n",
    "#Indicates we have missing values "
   ]
  },
  {
   "cell_type": "code",
   "execution_count": null,
   "id": "3975038b",
   "metadata": {},
   "outputs": [],
   "source": [
    "student_df = student_df.dropna(how='any')\n",
    "student_df.count()\n",
    "student_df.head()"
   ]
  },
  {
   "cell_type": "code",
   "execution_count": null,
   "id": "9e8e2376",
   "metadata": {},
   "outputs": [],
   "source": [
    "student_df.duplicated()\n",
    "student_df.duplicated().sum()"
   ]
  },
  {
   "cell_type": "code",
   "execution_count": null,
   "id": "366a558f",
   "metadata": {},
   "outputs": [],
   "source": [
    "student_df = student_df.drop_duplicates()\n",
    "student_df.duplicated()"
   ]
  },
  {
   "cell_type": "code",
   "execution_count": null,
   "id": "607d8f14",
   "metadata": {},
   "outputs": [],
   "source": [
    "student_df.dtypes"
   ]
  },
  {
   "cell_type": "code",
   "execution_count": null,
   "id": "82416820",
   "metadata": {},
   "outputs": [],
   "source": [
    "student_df[\"grade\"].value_counts()"
   ]
  },
  {
   "cell_type": "code",
   "execution_count": null,
   "id": "e758078b",
   "metadata": {},
   "outputs": [],
   "source": [
    "student_df['grade'] = student_df['grade'].replace(\n",
    "    {'9th': 9, '10th': 10, '11th': 11, '12th': 12})\n",
    "\n",
    "student_df[\"grade\"].value_counts()"
   ]
  },
  {
   "cell_type": "code",
   "execution_count": null,
   "id": "0e8b2f16",
   "metadata": {},
   "outputs": [],
   "source": [
    "#Column type is already int, but to change it it would be: student_df[\"grade\"] = pd.to_numeric(student_df[\"grade\"])\n",
    "student_df[\"grade\"].dtype"
   ]
  },
  {
   "cell_type": "markdown",
   "id": "8f8a2488",
   "metadata": {},
   "source": [
    "Deliverable 3: Summarize the Data"
   ]
  },
  {
   "cell_type": "code",
   "execution_count": null,
   "id": "1d017bf6",
   "metadata": {},
   "outputs": [],
   "source": [
    "student_df.describe()"
   ]
  },
  {
   "cell_type": "code",
   "execution_count": null,
   "id": "51bc9f17",
   "metadata": {},
   "outputs": [],
   "source": [
    "student_df[\"math_score\"].mean()"
   ]
  },
  {
   "cell_type": "code",
   "execution_count": null,
   "id": "305e5da7",
   "metadata": {},
   "outputs": [],
   "source": [
    "min_reading_score = student_df[\"reading_score\"].min()\n",
    "min_reading_score"
   ]
  },
  {
   "cell_type": "markdown",
   "id": "6f20b4ff",
   "metadata": {},
   "source": [
    "Deliverable 4: Drill Down into the Data"
   ]
  },
  {
   "cell_type": "code",
   "execution_count": null,
   "id": "c7587217",
   "metadata": {},
   "outputs": [],
   "source": [
    "student_df.loc[:, \"grade\"]"
   ]
  },
  {
   "cell_type": "code",
   "execution_count": null,
   "id": "1230d722",
   "metadata": {},
   "outputs": [],
   "source": [
    "student_df.iloc[0:3,3:6]"
   ]
  },
  {
   "cell_type": "code",
   "execution_count": null,
   "id": "8c58dadf",
   "metadata": {},
   "outputs": [],
   "source": [
    "grade_9 = student_df.loc[student_df[\"grade\"] == 9,:]\n",
    "grade_9.describe()"
   ]
  },
  {
   "cell_type": "code",
   "execution_count": null,
   "id": "f7397a12",
   "metadata": {},
   "outputs": [],
   "source": [
    "min_reading_row = student_df.loc[student_df[\"reading_score\"] == min_reading_score,:]\n",
    "min_reading_row"
   ]
  },
  {
   "cell_type": "code",
   "execution_count": null,
   "id": "1a9490a3",
   "metadata": {},
   "outputs": [],
   "source": [
    "grade10_reading = student_df.loc[(student_df[\"grade\"] == 10) & (student_df[\"school_name\"] == \"Dixon High School\") , [\"school_name\",\"reading_score\"]]\n",
    "grade10_reading"
   ]
  },
  {
   "cell_type": "code",
   "execution_count": null,
   "id": "f2ce3f1d",
   "metadata": {},
   "outputs": [],
   "source": [
    "grade11and12_reading = student_df.loc[(student_df[\"grade\"] == 11) | (student_df[\"grade\"] == 12), \"reading_score\"]\n",
    "grade11and12_reading.mean()"
   ]
  },
  {
   "cell_type": "markdown",
   "id": "523d0b3a",
   "metadata": {},
   "source": [
    "Deliverable 5: Compare the Data"
   ]
  }
 ],
 "metadata": {
  "kernelspec": {
   "display_name": "Python 3.9.12 ('base')",
   "language": "python",
   "name": "python3"
  },
  "language_info": {
   "codemirror_mode": {
    "name": "ipython",
    "version": 3
   },
   "file_extension": ".py",
   "mimetype": "text/x-python",
   "name": "python",
   "nbconvert_exporter": "python",
   "pygments_lexer": "ipython3",
   "version": "3.9.12"
  },
  "vscode": {
   "interpreter": {
    "hash": "8460d4379f2db7ca1790c309fa08bdb08e0415783bba4b95e23aac2b72fbbcd2"
   }
  }
 },
 "nbformat": 4,
 "nbformat_minor": 5
}
